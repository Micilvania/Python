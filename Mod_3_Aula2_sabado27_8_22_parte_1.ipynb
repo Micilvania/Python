{
  "nbformat": 4,
  "nbformat_minor": 0,
  "metadata": {
    "colab": {
      "name": "Mod 3 - Aula2 sabado27-8-22 - parte 1.ipynb",
      "provenance": [],
      "collapsed_sections": [],
      "authorship_tag": "ABX9TyNCTB5HKwCP8S4aG7JTsfcr",
      "include_colab_link": true
    },
    "kernelspec": {
      "name": "python3",
      "display_name": "Python 3"
    },
    "language_info": {
      "name": "python"
    }
  },
  "cells": [
    {
      "cell_type": "markdown",
      "metadata": {
        "id": "view-in-github",
        "colab_type": "text"
      },
      "source": [
        "<a href=\"https://colab.research.google.com/github/Micilvania/Python/blob/main/Mod_3_Aula2_sabado27_8_22_parte_1.ipynb\" target=\"_parent\"><img src=\"https://colab.research.google.com/assets/colab-badge.svg\" alt=\"Open In Colab\"/></a>"
      ]
    },
    {
      "cell_type": "markdown",
      "source": [
        "Pandas "
      ],
      "metadata": {
        "id": "oW1qX8ICPAeU"
      }
    },
    {
      "cell_type": "code",
      "execution_count": null,
      "metadata": {
        "id": "QBCLo7ytLUQm"
      },
      "outputs": [],
      "source": [
        "serie1 = pd.Series([10, 9, 8, 2, 5])\n",
        "serie1\n"
      ]
    },
    {
      "cell_type": "code",
      "source": [
        "serie2 = pd.Series([4, 7, 6, 3], index=['a', 'b', 'c', 'd']) \n",
        "serie2"
      ],
      "metadata": {
        "id": "pvk1lLUcPPJT"
      },
      "execution_count": null,
      "outputs": []
    },
    {
      "cell_type": "markdown",
      "source": [
        "Data Frames = Tabela"
      ],
      "metadata": {
        "id": "ktdq6gDrQH9F"
      }
    },
    {
      "cell_type": "code",
      "source": [
        "import pandas as pd\n",
        "import numpy as np\n"
      ],
      "metadata": {
        "id": "lCylouiYP7Z8"
      },
      "execution_count": null,
      "outputs": []
    },
    {
      "cell_type": "code",
      "source": [
        "serie1 = pd.Series([10, 9, 8, 2, 5])\n",
        "serie1\n"
      ],
      "metadata": {
        "colab": {
          "base_uri": "https://localhost:8080/"
        },
        "id": "EEUcgrYVRhmA",
        "outputId": "2bb6fbee-819b-4325-ad19-38fe0ee52c44"
      },
      "execution_count": null,
      "outputs": [
        {
          "output_type": "execute_result",
          "data": {
            "text/plain": [
              "0    10\n",
              "1     9\n",
              "2     8\n",
              "3     2\n",
              "4     5\n",
              "dtype: int64"
            ]
          },
          "metadata": {},
          "execution_count": 9
        }
      ]
    },
    {
      "cell_type": "code",
      "source": [
        "serie1.index"
      ],
      "metadata": {
        "colab": {
          "base_uri": "https://localhost:8080/"
        },
        "id": "HPk1YTWgR9oa",
        "outputId": "b4fac115-35d6-47b5-f9f0-562bf0ffe14f"
      },
      "execution_count": null,
      "outputs": [
        {
          "output_type": "execute_result",
          "data": {
            "text/plain": [
              "RangeIndex(start=0, stop=5, step=1)"
            ]
          },
          "metadata": {},
          "execution_count": 10
        }
      ]
    },
    {
      "cell_type": "code",
      "source": [
        "serie1 = np.array([10, 9, 8, 2, 5])\n",
        "serie1\n"
      ],
      "metadata": {
        "colab": {
          "base_uri": "https://localhost:8080/"
        },
        "id": "Tv7FdqukSN_t",
        "outputId": "1d7bdad2-4ebf-473b-c295-f2de4b3d0a62"
      },
      "execution_count": null,
      "outputs": [
        {
          "output_type": "execute_result",
          "data": {
            "text/plain": [
              "array([10,  9,  8,  2,  5])"
            ]
          },
          "metadata": {},
          "execution_count": 15
        }
      ]
    },
    {
      "cell_type": "code",
      "source": [
        "serie2 = pd.Series(np.random.rand(10), index = np.arange(1, 11))\n",
        "serie2"
      ],
      "metadata": {
        "colab": {
          "base_uri": "https://localhost:8080/"
        },
        "id": "oLTgTkh9Sycl",
        "outputId": "4ce1d821-7dc9-4e40-ebd9-aceeb69e9ccc"
      },
      "execution_count": null,
      "outputs": [
        {
          "output_type": "execute_result",
          "data": {
            "text/plain": [
              "1     0.047650\n",
              "2     0.815171\n",
              "3     0.916031\n",
              "4     0.861151\n",
              "5     0.653759\n",
              "6     0.695248\n",
              "7     0.027247\n",
              "8     0.361387\n",
              "9     0.541615\n",
              "10    0.410482\n",
              "dtype: float64"
            ]
          },
          "metadata": {},
          "execution_count": 12
        }
      ]
    },
    {
      "cell_type": "code",
      "source": [
        "serie2 = pd.Series([True, 7, 6, 3], index = [4.5, 'b', 'c', 'd'])\n",
        "serie2"
      ],
      "metadata": {
        "colab": {
          "base_uri": "https://localhost:8080/"
        },
        "id": "ffMH1PgkUAAh",
        "outputId": "9b843643-4924-4627-983a-1bfa0bf0b500"
      },
      "execution_count": null,
      "outputs": [
        {
          "output_type": "execute_result",
          "data": {
            "text/plain": [
              "4.5    True\n",
              "b         7\n",
              "c         6\n",
              "d         3\n",
              "dtype: object"
            ]
          },
          "metadata": {},
          "execution_count": 16
        }
      ]
    },
    {
      "cell_type": "code",
      "source": [
        "serie2['c']\n"
      ],
      "metadata": {
        "colab": {
          "base_uri": "https://localhost:8080/"
        },
        "id": "d0Myw1vVUfVe",
        "outputId": "feb1122c-4b35-4d21-978e-9a7b62931aeb"
      },
      "execution_count": null,
      "outputs": [
        {
          "output_type": "execute_result",
          "data": {
            "text/plain": [
              "6"
            ]
          },
          "metadata": {},
          "execution_count": 17
        }
      ]
    },
    {
      "cell_type": "code",
      "source": [
        "serie2[4.5]\n"
      ],
      "metadata": {
        "colab": {
          "base_uri": "https://localhost:8080/"
        },
        "id": "1weU7VM4UlaX",
        "outputId": "c8cdc314-7d43-4d48-9f0f-c05ff314032c"
      },
      "execution_count": null,
      "outputs": [
        {
          "output_type": "execute_result",
          "data": {
            "text/plain": [
              "True"
            ]
          },
          "metadata": {},
          "execution_count": 18
        }
      ]
    },
    {
      "cell_type": "markdown",
      "source": [
        "Usando Dicionário - vamos criar primeiramente nosso dicionário e armazenar em capitais"
      ],
      "metadata": {
        "id": "dbeDRpk4U16m"
      }
    },
    {
      "cell_type": "code",
      "source": [
        "capitais = {\n",
        "    'Pernambuco' : 'Recife',\n",
        "    'Paraíba' : 'João Pessoa',\n",
        "    'Ceará' : 'Fortaleza',\n",
        "    'Bahia' : 'Salvador',\n",
        "    'Alagoas' : 'Maceió'\n",
        "}"
      ],
      "metadata": {
        "id": "8i73OExxUuf5"
      },
      "execution_count": null,
      "outputs": []
    },
    {
      "cell_type": "code",
      "source": [
        "type(capitais)\n"
      ],
      "metadata": {
        "colab": {
          "base_uri": "https://localhost:8080/"
        },
        "id": "WruUmEgJVfHf",
        "outputId": "549025df-2a09-4a0f-c6d2-2bed9f80d8c9"
      },
      "execution_count": null,
      "outputs": [
        {
          "output_type": "execute_result",
          "data": {
            "text/plain": [
              "dict"
            ]
          },
          "metadata": {},
          "execution_count": 20
        }
      ]
    },
    {
      "cell_type": "markdown",
      "source": [
        "Passar o diconário para parâmetro para criarmos nossa série"
      ],
      "metadata": {
        "id": "2ScLt0PAV3NO"
      }
    },
    {
      "cell_type": "code",
      "source": [
        "serie3 = pd.Series(capitais)\n",
        "serie3"
      ],
      "metadata": {
        "colab": {
          "base_uri": "https://localhost:8080/"
        },
        "id": "x1eeZowYVmSD",
        "outputId": "e92abb9f-ef43-43b6-b3bf-ffb1e5cb00a4"
      },
      "execution_count": null,
      "outputs": [
        {
          "output_type": "execute_result",
          "data": {
            "text/plain": [
              "Pernambuco         Recife\n",
              "Paraíba       João Pessoa\n",
              "Ceará           Fortaleza\n",
              "Bahia            Salvador\n",
              "Alagoas            Maceió\n",
              "dtype: object"
            ]
          },
          "metadata": {},
          "execution_count": 21
        }
      ]
    },
    {
      "cell_type": "code",
      "source": [
        "type(serie3)"
      ],
      "metadata": {
        "colab": {
          "base_uri": "https://localhost:8080/"
        },
        "id": "HiY_jZ2-WLD4",
        "outputId": "96c1076c-4791-4f4d-aaa6-d82ab1cf0cc7"
      },
      "execution_count": null,
      "outputs": [
        {
          "output_type": "execute_result",
          "data": {
            "text/plain": [
              "pandas.core.series.Series"
            ]
          },
          "metadata": {},
          "execution_count": 22
        }
      ]
    },
    {
      "cell_type": "markdown",
      "source": [
        "Criar uma série um pouco mais interessante - As dez empresas mais valiosas do mundo"
      ],
      "metadata": {
        "id": "vXZPVluaWTNU"
      }
    },
    {
      "cell_type": "code",
      "source": [
        "dictEmpresas = {'Apple' : 947.062,\n",
        "                'Google' : 819.573,\n",
        "                'Amazon' : 705.646,\n",
        "                'Microsoft' : 611.460,\n",
        "                'Tencent' : 214.023,\n",
        "                'McDonalds' : 196.526,\n",
        "                'Visa': 191.032,\n",
        "                'Facebook' : 186.032,\n",
        "                'Alibaba' : 169.966,\n",
        "                'Louis Vuitton' : 124.273\n",
        "                \n",
        "                }"
      ],
      "metadata": {
        "id": "U1gUhQsVWRUw"
      },
      "execution_count": null,
      "outputs": []
    },
    {
      "cell_type": "code",
      "source": [
        "serie4 = pd.Series(dictEmpresas)\n",
        "serie4"
      ],
      "metadata": {
        "colab": {
          "base_uri": "https://localhost:8080/"
        },
        "id": "vvyP1ETpXfRm",
        "outputId": "76a06185-b4bf-43a5-c5bf-240e270372d6"
      },
      "execution_count": null,
      "outputs": [
        {
          "output_type": "execute_result",
          "data": {
            "text/plain": [
              "Apple            947.062\n",
              "Google           819.573\n",
              "Amazon           705.646\n",
              "Microsoft        611.460\n",
              "Tencent          214.023\n",
              "McDonalds        196.526\n",
              "Visa             191.032\n",
              "Facebok          186.032\n",
              "Alibaba          169.966\n",
              "Louis Vuitton    124.273\n",
              "dtype: float64"
            ]
          },
          "metadata": {},
          "execution_count": 24
        }
      ]
    },
    {
      "cell_type": "markdown",
      "source": [
        "Criar uma serie (com os mesmos dados) desta vez usando lista e index."
      ],
      "metadata": {
        "id": "DMrcC51BX49J"
      }
    },
    {
      "cell_type": "code",
      "source": [
        "empresas = ['Apple', 'Google', 'Amazon', 'Microsoft', 'Tencent', 'McDonald´s', 'Visa', 'Facebook', 'Alibaba', 'Louis Vuitton']"
      ],
      "metadata": {
        "id": "EtlUIzKOYNEc"
      },
      "execution_count": null,
      "outputs": []
    },
    {
      "cell_type": "code",
      "source": [
        "serie4 = pd.Series(empresas)\n",
        "serie4"
      ],
      "metadata": {
        "colab": {
          "base_uri": "https://localhost:8080/"
        },
        "id": "wkTlSapwaLuQ",
        "outputId": "c12a6ea7-0e39-4ee0-8739-4965e29d3826"
      },
      "execution_count": null,
      "outputs": [
        {
          "output_type": "execute_result",
          "data": {
            "text/plain": [
              "0            Apple\n",
              "1           Google\n",
              "2           Amazon\n",
              "3        Microsoft\n",
              "4          Tencent\n",
              "5       McDonald´s\n",
              "6             Visa\n",
              "7         Facebook\n",
              "8          Alibaba\n",
              "9    Louis Vuitton\n",
              "dtype: object"
            ]
          },
          "metadata": {},
          "execution_count": 32
        }
      ]
    },
    {
      "cell_type": "markdown",
      "source": [
        "Vamos fazer a lista com os valores que usaremos depois como index"
      ],
      "metadata": {
        "id": "6P6wGqxZZA59"
      }
    },
    {
      "cell_type": "code",
      "source": [
        "bilhoes = [947.062, 819.573, 705.646, 611.460, 214.023, 196.526, 191.032, 186.421, 169.966, 124.273]"
      ],
      "metadata": {
        "id": "tERdJwbNYsVB"
      },
      "execution_count": null,
      "outputs": []
    },
    {
      "cell_type": "code",
      "source": [
        "serie4 = pd.Series(bilhoes)\n",
        "serie4"
      ],
      "metadata": {
        "colab": {
          "base_uri": "https://localhost:8080/"
        },
        "id": "6MbY4Uh9YxQN",
        "outputId": "bb0c2f08-6dc1-4a88-b3c9-97cc01f30266"
      },
      "execution_count": null,
      "outputs": [
        {
          "output_type": "execute_result",
          "data": {
            "text/plain": [
              "0    947.062\n",
              "1    819.573\n",
              "2    705.646\n",
              "3    611.460\n",
              "4    214.023\n",
              "5    196.526\n",
              "6    191.032\n",
              "7    186.421\n",
              "8    169.966\n",
              "9    124.273\n",
              "dtype: float64"
            ]
          },
          "metadata": {},
          "execution_count": 29
        }
      ]
    },
    {
      "cell_type": "markdown",
      "source": [
        "Agora, de posse das duas listas, vamos relembrar a construção de uma serie (serie = pd.Series(data, index)"
      ],
      "metadata": {
        "id": "bf37gH00aZLW"
      }
    },
    {
      "cell_type": "code",
      "source": [
        "serie5 = pd.Series(bilhoes, index=empresas)\n",
        "serie5"
      ],
      "metadata": {
        "colab": {
          "base_uri": "https://localhost:8080/"
        },
        "id": "awwxkWzyalTM",
        "outputId": "0a547e7c-93d2-4b05-ebed-512878c779c3"
      },
      "execution_count": null,
      "outputs": [
        {
          "output_type": "execute_result",
          "data": {
            "text/plain": [
              "Apple            947.062\n",
              "Google           819.573\n",
              "Amazon           705.646\n",
              "Microsoft        611.460\n",
              "Tencent          214.023\n",
              "McDonald´s       196.526\n",
              "Visa             191.032\n",
              "Facebook         186.421\n",
              "Alibaba          169.966\n",
              "Louis Vuitton    124.273\n",
              "dtype: float64"
            ]
          },
          "metadata": {},
          "execution_count": 33
        }
      ]
    },
    {
      "cell_type": "markdown",
      "source": [
        "Vamos fazer um rápido spoiler sobre gráficos. Para isso vamos importar a biblioteca Matplotlib. "
      ],
      "metadata": {
        "id": "AgXYu-gla8tF"
      }
    },
    {
      "cell_type": "code",
      "source": [
        "import matplotlib.pyplot as plt\n",
        "serie5.plot()"
      ],
      "metadata": {
        "colab": {
          "base_uri": "https://localhost:8080/",
          "height": 282
        },
        "id": "kBkPndHGa93T",
        "outputId": "20718c2d-a6b4-495c-a4ad-cb9746a40bc0"
      },
      "execution_count": null,
      "outputs": [
        {
          "output_type": "execute_result",
          "data": {
            "text/plain": [
              "<matplotlib.axes._subplots.AxesSubplot at 0x7f8a3217bb90>"
            ]
          },
          "metadata": {},
          "execution_count": 34
        },
        {
          "output_type": "display_data",
          "data": {
            "text/plain": [
              "<Figure size 432x288 with 1 Axes>"
            ],
            "image/png": "[encoded data removed]"
          },
          "metadata": {
            "needs_background": "light"
          }
        }
      ]
    },
    {
      "cell_type": "markdown",
      "source": [
        "A biblioteca \"improvisou\" e fez o que podia, já que ainda não aprendemos os detlahes para aprimorar nosso gráfico. (bar = barra)"
      ],
      "metadata": {
        "id": "XFCD3-cFcxMm"
      }
    },
    {
      "cell_type": "code",
      "source": [
        "serie5.plot(kind = 'bar')"
      ],
      "metadata": {
        "colab": {
          "base_uri": "https://localhost:8080/",
          "height": 337
        },
        "id": "DbL4FsUhcx1l",
        "outputId": "b8e8c286-a21c-476d-bfea-c3e1579a5aac"
      },
      "execution_count": null,
      "outputs": [
        {
          "output_type": "execute_result",
          "data": {
            "text/plain": [
              "<matplotlib.axes._subplots.AxesSubplot at 0x7f8a31b4b490>"
            ]
          },
          "metadata": {},
          "execution_count": 35
        },
        {
          "output_type": "display_data",
          "data": {
            "text/plain": [
              "<Figure size 432x288 with 1 Axes>"
            ],
            "image/png": "[encoded data removed]"
          },
          "metadata": {
            "needs_background": "light"
          }
        }
      ]
    },
    {
      "cell_type": "markdown",
      "source": [],
      "metadata": {
        "id": "MBvnfy4Xdh54"
      }
    },
    {
      "cell_type": "code",
      "source": [],
      "metadata": {
        "id": "z8tuDdYwdi1J"
      },
      "execution_count": null,
      "outputs": []
    }
  ]
}